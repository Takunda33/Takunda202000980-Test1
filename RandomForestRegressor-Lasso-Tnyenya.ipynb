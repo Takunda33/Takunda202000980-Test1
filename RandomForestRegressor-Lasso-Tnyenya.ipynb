{
 "cells": [
  {
   "cell_type": "code",
   "execution_count": 1,
   "id": "da539e18",
   "metadata": {},
   "outputs": [],
   "source": [
    "import pandas as pd\n",
    "import numpy as np\n",
    "import matplotlib.pyplot as plt\n",
    "import matplotlib\n",
    "from sklearn.model_selection import train_test_split\n",
    "from sklearn.ensemble import RandomForestClassifier\n",
    "#from sklearn.model_linear import lasso\n",
    "from sklearn import metrics\n",
    "\n"
   ]
  },
  {
   "cell_type": "code",
   "execution_count": 2,
   "id": "0b637828",
   "metadata": {},
   "outputs": [],
   "source": [
    "data = pd.read_csv(\"tourism_data_500_points.csv\")"
   ]
  },
  {
   "cell_type": "code",
   "execution_count": 3,
   "id": "7330188e",
   "metadata": {},
   "outputs": [
    {
     "data": {
      "text/html": [
       "<div>\n",
       "<style scoped>\n",
       "    .dataframe tbody tr th:only-of-type {\n",
       "        vertical-align: middle;\n",
       "    }\n",
       "\n",
       "    .dataframe tbody tr th {\n",
       "        vertical-align: top;\n",
       "    }\n",
       "\n",
       "    .dataframe thead th {\n",
       "        text-align: right;\n",
       "    }\n",
       "</style>\n",
       "<table border=\"1\" class=\"dataframe\">\n",
       "  <thead>\n",
       "    <tr style=\"text-align: right;\">\n",
       "      <th></th>\n",
       "      <th>Date</th>\n",
       "      <th>Location</th>\n",
       "      <th>Number_of_Visitors</th>\n",
       "    </tr>\n",
       "  </thead>\n",
       "  <tbody>\n",
       "    <tr>\n",
       "      <th>0</th>\n",
       "      <td>2019-01-01 00:00:00.000000000</td>\n",
       "      <td>Kimberley Museum</td>\n",
       "      <td>3970</td>\n",
       "    </tr>\n",
       "    <tr>\n",
       "      <th>1</th>\n",
       "      <td>2019-01-01 00:00:00.000000000</td>\n",
       "      <td>McGregor Museum</td>\n",
       "      <td>4278</td>\n",
       "    </tr>\n",
       "    <tr>\n",
       "      <th>2</th>\n",
       "      <td>2019-01-01 00:00:00.000000000</td>\n",
       "      <td>William Humphreys Art Gallery</td>\n",
       "      <td>4354</td>\n",
       "    </tr>\n",
       "    <tr>\n",
       "      <th>3</th>\n",
       "      <td>2019-01-01 00:00:00.000000000</td>\n",
       "      <td>Magersfontein Battlefield</td>\n",
       "      <td>5956</td>\n",
       "    </tr>\n",
       "    <tr>\n",
       "      <th>4</th>\n",
       "      <td>2019-01-01 00:00:00.000000000</td>\n",
       "      <td>Ghost Tours &amp; Historical Walks</td>\n",
       "      <td>5450</td>\n",
       "    </tr>\n",
       "  </tbody>\n",
       "</table>\n",
       "</div>"
      ],
      "text/plain": [
       "                            Date                        Location  \\\n",
       "0  2019-01-01 00:00:00.000000000                Kimberley Museum   \n",
       "1  2019-01-01 00:00:00.000000000                 McGregor Museum   \n",
       "2  2019-01-01 00:00:00.000000000   William Humphreys Art Gallery   \n",
       "3  2019-01-01 00:00:00.000000000       Magersfontein Battlefield   \n",
       "4  2019-01-01 00:00:00.000000000  Ghost Tours & Historical Walks   \n",
       "\n",
       "   Number_of_Visitors  \n",
       "0                3970  \n",
       "1                4278  \n",
       "2                4354  \n",
       "3                5956  \n",
       "4                5450  "
      ]
     },
     "execution_count": 3,
     "metadata": {},
     "output_type": "execute_result"
    }
   ],
   "source": [
    "data.head()"
   ]
  },
  {
   "cell_type": "code",
   "execution_count": 4,
   "id": "13fbf9ad",
   "metadata": {},
   "outputs": [
    {
     "data": {
      "text/html": [
       "<div>\n",
       "<style scoped>\n",
       "    .dataframe tbody tr th:only-of-type {\n",
       "        vertical-align: middle;\n",
       "    }\n",
       "\n",
       "    .dataframe tbody tr th {\n",
       "        vertical-align: top;\n",
       "    }\n",
       "\n",
       "    .dataframe thead th {\n",
       "        text-align: right;\n",
       "    }\n",
       "</style>\n",
       "<table border=\"1\" class=\"dataframe\">\n",
       "  <thead>\n",
       "    <tr style=\"text-align: right;\">\n",
       "      <th></th>\n",
       "      <th>Date</th>\n",
       "      <th>Location</th>\n",
       "      <th>Number_of_Visitors</th>\n",
       "    </tr>\n",
       "  </thead>\n",
       "  <tbody>\n",
       "    <tr>\n",
       "      <th>2495</th>\n",
       "      <td>2023-01-01 00:00:00.000000000</td>\n",
       "      <td>Kimberley Museum</td>\n",
       "      <td>3405</td>\n",
       "    </tr>\n",
       "    <tr>\n",
       "      <th>2496</th>\n",
       "      <td>2023-01-01 00:00:00.000000000</td>\n",
       "      <td>McGregor Museum</td>\n",
       "      <td>5090</td>\n",
       "    </tr>\n",
       "    <tr>\n",
       "      <th>2497</th>\n",
       "      <td>2023-01-01 00:00:00.000000000</td>\n",
       "      <td>William Humphreys Art Gallery</td>\n",
       "      <td>4292</td>\n",
       "    </tr>\n",
       "    <tr>\n",
       "      <th>2498</th>\n",
       "      <td>2023-01-01 00:00:00.000000000</td>\n",
       "      <td>Magersfontein Battlefield</td>\n",
       "      <td>5294</td>\n",
       "    </tr>\n",
       "    <tr>\n",
       "      <th>2499</th>\n",
       "      <td>2023-01-01 00:00:00.000000000</td>\n",
       "      <td>Ghost Tours &amp; Historical Walks</td>\n",
       "      <td>1135</td>\n",
       "    </tr>\n",
       "  </tbody>\n",
       "</table>\n",
       "</div>"
      ],
      "text/plain": [
       "                               Date                        Location  \\\n",
       "2495  2023-01-01 00:00:00.000000000                Kimberley Museum   \n",
       "2496  2023-01-01 00:00:00.000000000                 McGregor Museum   \n",
       "2497  2023-01-01 00:00:00.000000000   William Humphreys Art Gallery   \n",
       "2498  2023-01-01 00:00:00.000000000       Magersfontein Battlefield   \n",
       "2499  2023-01-01 00:00:00.000000000  Ghost Tours & Historical Walks   \n",
       "\n",
       "      Number_of_Visitors  \n",
       "2495                3405  \n",
       "2496                5090  \n",
       "2497                4292  \n",
       "2498                5294  \n",
       "2499                1135  "
      ]
     },
     "execution_count": 4,
     "metadata": {},
     "output_type": "execute_result"
    }
   ],
   "source": [
    "data.tail()"
   ]
  },
  {
   "cell_type": "code",
   "execution_count": 5,
   "id": "92925271",
   "metadata": {},
   "outputs": [
    {
     "name": "stdout",
     "output_type": "stream",
     "text": [
      "Date                  0\n",
      "Location              0\n",
      "Number_of_Visitors    0\n",
      "dtype: int64\n"
     ]
    }
   ],
   "source": [
    "missing_values = data.isnull().sum()\n",
    "print(missing_values)"
   ]
  },
  {
   "cell_type": "code",
   "execution_count": 6,
   "id": "b29ca4ff",
   "metadata": {},
   "outputs": [
    {
     "name": "stdout",
     "output_type": "stream",
     "text": [
      "                               Date                        Location  \\\n",
      "0     2019-01-01 00:00:00.000000000                Kimberley Museum   \n",
      "1     2019-01-01 00:00:00.000000000                 McGregor Museum   \n",
      "2     2019-01-01 00:00:00.000000000   William Humphreys Art Gallery   \n",
      "3     2019-01-01 00:00:00.000000000       Magersfontein Battlefield   \n",
      "4     2019-01-01 00:00:00.000000000  Ghost Tours & Historical Walks   \n",
      "...                             ...                             ...   \n",
      "2495  2023-01-01 00:00:00.000000000                Kimberley Museum   \n",
      "2496  2023-01-01 00:00:00.000000000                 McGregor Museum   \n",
      "2497  2023-01-01 00:00:00.000000000   William Humphreys Art Gallery   \n",
      "2498  2023-01-01 00:00:00.000000000       Magersfontein Battlefield   \n",
      "2499  2023-01-01 00:00:00.000000000  Ghost Tours & Historical Walks   \n",
      "\n",
      "      Number_of_Visitors  \n",
      "0                   3970  \n",
      "1                   4278  \n",
      "2                   4354  \n",
      "3                   5956  \n",
      "4                   5450  \n",
      "...                  ...  \n",
      "2495                3405  \n",
      "2496                5090  \n",
      "2497                4292  \n",
      "2498                5294  \n",
      "2499                1135  \n",
      "\n",
      "[2500 rows x 3 columns]\n"
     ]
    }
   ],
   "source": [
    "data = data.drop_duplicates()\n",
    "print(data)"
   ]
  },
  {
   "cell_type": "code",
   "execution_count": 7,
   "id": "42ce4523",
   "metadata": {},
   "outputs": [
    {
     "data": {
      "text/html": [
       "<div>\n",
       "<style scoped>\n",
       "    .dataframe tbody tr th:only-of-type {\n",
       "        vertical-align: middle;\n",
       "    }\n",
       "\n",
       "    .dataframe tbody tr th {\n",
       "        vertical-align: top;\n",
       "    }\n",
       "\n",
       "    .dataframe thead th {\n",
       "        text-align: right;\n",
       "    }\n",
       "</style>\n",
       "<table border=\"1\" class=\"dataframe\">\n",
       "  <thead>\n",
       "    <tr style=\"text-align: right;\">\n",
       "      <th></th>\n",
       "      <th>Number_of_Visitors</th>\n",
       "    </tr>\n",
       "  </thead>\n",
       "  <tbody>\n",
       "    <tr>\n",
       "      <th>count</th>\n",
       "      <td>2500.000000</td>\n",
       "    </tr>\n",
       "    <tr>\n",
       "      <th>mean</th>\n",
       "      <td>4929.348000</td>\n",
       "    </tr>\n",
       "    <tr>\n",
       "      <th>std</th>\n",
       "      <td>1488.474419</td>\n",
       "    </tr>\n",
       "    <tr>\n",
       "      <th>min</th>\n",
       "      <td>-166.000000</td>\n",
       "    </tr>\n",
       "    <tr>\n",
       "      <th>25%</th>\n",
       "      <td>3967.250000</td>\n",
       "    </tr>\n",
       "    <tr>\n",
       "      <th>50%</th>\n",
       "      <td>4885.000000</td>\n",
       "    </tr>\n",
       "    <tr>\n",
       "      <th>75%</th>\n",
       "      <td>5903.500000</td>\n",
       "    </tr>\n",
       "    <tr>\n",
       "      <th>max</th>\n",
       "      <td>11213.000000</td>\n",
       "    </tr>\n",
       "  </tbody>\n",
       "</table>\n",
       "</div>"
      ],
      "text/plain": [
       "       Number_of_Visitors\n",
       "count         2500.000000\n",
       "mean          4929.348000\n",
       "std           1488.474419\n",
       "min           -166.000000\n",
       "25%           3967.250000\n",
       "50%           4885.000000\n",
       "75%           5903.500000\n",
       "max          11213.000000"
      ]
     },
     "execution_count": 7,
     "metadata": {},
     "output_type": "execute_result"
    }
   ],
   "source": [
    "data.describe()"
   ]
  },
  {
   "cell_type": "code",
   "execution_count": null,
   "id": "6f9855be",
   "metadata": {},
   "outputs": [],
   "source": [
    "#splitting data into training and testing sets\n",
    "#X_test,x_train,Y_test,y_train = train_test_split('train = 0.7','test = 0.3' )"
   ]
  }
 ],
 "metadata": {
  "kernelspec": {
   "display_name": "Python 3 (ipykernel)",
   "language": "python",
   "name": "python3"
  },
  "language_info": {
   "codemirror_mode": {
    "name": "ipython",
    "version": 3
   },
   "file_extension": ".py",
   "mimetype": "text/x-python",
   "name": "python",
   "nbconvert_exporter": "python",
   "pygments_lexer": "ipython3",
   "version": "3.9.12"
  }
 },
 "nbformat": 4,
 "nbformat_minor": 5
}
